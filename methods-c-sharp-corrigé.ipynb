{
 "cells": [
  {
   "cell_type": "markdown",
   "metadata": {},
   "source": [
    "<h4>Vous avez pu découvrir que C# est un langage de Microsoft dérivé de C et publier avec le framework .NET. Vous avez découvert les bases de C# et une petite partie de son fonctionnement. Vous apprendrez ici comment creer un réel code en C# ! Bonne chance !</h4>"
   ]
  },
  {
   "cell_type": "markdown",
   "metadata": {},
   "source": [
    "<h5>Exercice 1</h5>\n",
    "<p>Vous finirez le code présent ci dessous pour écrire dans la console \"Hello world\".</p>"
   ]
  },
  {
   "cell_type": "code",
   "execution_count": 30,
   "metadata": {
    "dotnet_interactive": {
     "language": "csharp"
    },
    "polyglot_notebook": {
     "kernelName": "csharp"
    },
    "vscode": {
     "languageId": "polyglot-notebook"
    }
   },
   "outputs": [
    {
     "name": "stdout",
     "output_type": "stream",
     "text": [
      "Hello world!\r\n"
     ]
    }
   ],
   "source": [
    "//Nous sommes déjà dans Main()\n",
    "//...\n",
    "Console.WriteLine(\"Hello world!\");"
   ]
  },
  {
   "cell_type": "markdown",
   "metadata": {},
   "source": [
    "<h5>Exercice 2</h5>\n",
    "<p>Creez une méthode Show() accessible dans la méthode principale qui servira à écrire quelque chose dans la console.</p>"
   ]
  },
  {
   "cell_type": "code",
   "execution_count": 31,
   "metadata": {
    "dotnet_interactive": {
     "language": "csharp"
    },
    "polyglot_notebook": {
     "kernelName": "csharp"
    },
    "vscode": {
     "languageId": "polyglot-notebook"
    }
   },
   "outputs": [],
   "source": [
    "//...\n",
    "public static void Show(string arg) {\n",
    "    Console.WriteLine(arg);\n",
    "}"
   ]
  },
  {
   "cell_type": "markdown",
   "metadata": {},
   "source": [
    "<p>Utilisez cette méthode pour écrire \"Hello world\".</p>"
   ]
  },
  {
   "cell_type": "code",
   "execution_count": 32,
   "metadata": {
    "dotnet_interactive": {
     "language": "csharp"
    },
    "polyglot_notebook": {
     "kernelName": "csharp"
    },
    "vscode": {
     "languageId": "polyglot-notebook"
    }
   },
   "outputs": [
    {
     "name": "stdout",
     "output_type": "stream",
     "text": [
      "Hello world!\r\n"
     ]
    }
   ],
   "source": [
    "//...\n",
    "Show(\"Hello world!\");"
   ]
  },
  {
   "cell_type": "markdown",
   "metadata": {},
   "source": [
    "<h5>Exercice 3</h5>\n",
    "<p>Creez une méthode Mulitplication() accessible dans la méthode principale qui servira à renvoyer le résultat de la multiplication des deux paramètres renseignés.</p>"
   ]
  },
  {
   "cell_type": "code",
   "execution_count": 38,
   "metadata": {
    "dotnet_interactive": {
     "language": "csharp"
    },
    "polyglot_notebook": {
     "kernelName": "csharp"
    },
    "vscode": {
     "languageId": "polyglot-notebook"
    }
   },
   "outputs": [],
   "source": [
    "//...\n",
    "public static int Multiplication(int a, int b) {\n",
    "    return (a * b);\n",
    "} "
   ]
  },
  {
   "cell_type": "markdown",
   "metadata": {},
   "source": [
    "<p>Utilisez cette méthode à l'intérieur de Show() et observez le résultat.</p>"
   ]
  },
  {
   "cell_type": "code",
   "execution_count": 40,
   "metadata": {
    "dotnet_interactive": {
     "language": "csharp"
    },
    "polyglot_notebook": {
     "kernelName": "csharp"
    },
    "vscode": {
     "languageId": "polyglot-notebook"
    }
   },
   "outputs": [
    {
     "name": "stdout",
     "output_type": "stream",
     "text": [
      "6\r\n"
     ]
    }
   ],
   "source": [
    "//...\n",
    "Show(Multiplication(2, 3).ToString());"
   ]
  },
  {
   "cell_type": "markdown",
   "metadata": {},
   "source": [
    "<p>Modifier le code pour qu'il n'y ai pas d'erreur puis comparez avec le reste du groupe les moyens avec lesquels vous avez réussi à résoudre le problème."
   ]
  },
  {
   "cell_type": "markdown",
   "metadata": {},
   "source": [
    "<p>Ecrivez ci dessous une des solutions qui vous convient qui n'étais pas la votre :</p>"
   ]
  },
  {
   "cell_type": "code",
   "execution_count": 42,
   "metadata": {
    "dotnet_interactive": {
     "language": "csharp"
    },
    "polyglot_notebook": {
     "kernelName": "csharp"
    },
    "vscode": {
     "languageId": "polyglot-notebook"
    }
   },
   "outputs": [
    {
     "name": "stdout",
     "output_type": "stream",
     "text": [
      "6\r\n"
     ]
    }
   ],
   "source": [
    "//Autre solution :\n",
    "public static string Multiplication(int a, int b) {\n",
    "    return (a * b).ToString();\n",
    "} \n",
    "\n",
    "Show(Multiplication(2, 3));"
   ]
  },
  {
   "cell_type": "markdown",
   "metadata": {},
   "source": [
    "<h5>Exercice 4</h5>\n",
    "<p>Réalisez maintenant une classe. Les classes servent de modèle d'objet, c'est à dire l'apparence que doivent prendre les objets crées à partir de cette classe. Donnez lui le nom de Robot.</p>"
   ]
  },
  {
   "cell_type": "code",
   "execution_count": 43,
   "metadata": {
    "dotnet_interactive": {
     "language": "csharp"
    },
    "polyglot_notebook": {
     "kernelName": "csharp"
    },
    "vscode": {
     "languageId": "polyglot-notebook"
    }
   },
   "outputs": [],
   "source": [
    "//Classe :\n",
    "public class Robot {}"
   ]
  },
  {
   "cell_type": "markdown",
   "metadata": {},
   "source": [
    "<p>Ajoutez lui maintenant des propriétés : positionX et positionY.</p>"
   ]
  },
  {
   "cell_type": "code",
   "execution_count": 44,
   "metadata": {
    "dotnet_interactive": {
     "language": "csharp"
    },
    "polyglot_notebook": {
     "kernelName": "csharp"
    },
    "vscode": {
     "languageId": "polyglot-notebook"
    }
   },
   "outputs": [],
   "source": [
    "public class Robot {\n",
    "    public int positionX { get; set; }\n",
    "    public int positionY { get; set; }\n",
    "}"
   ]
  },
  {
   "cell_type": "markdown",
   "metadata": {},
   "source": [
    "<p>Ajoutez pour finir un constructeur.</p>"
   ]
  },
  {
   "cell_type": "code",
   "execution_count": 45,
   "metadata": {
    "dotnet_interactive": {
     "language": "csharp"
    },
    "polyglot_notebook": {
     "kernelName": "csharp"
    },
    "vscode": {
     "languageId": "polyglot-notebook"
    }
   },
   "outputs": [],
   "source": [
    "public class Robot {\n",
    "    public int positionX { get; set; }\n",
    "    public int positionY { get; set; }\n",
    "\n",
    "    public Robot(int posX, int posY) {\n",
    "        positionX = posX;\n",
    "        positionY = posY;\n",
    "    }\n",
    "}"
   ]
  },
  {
   "cell_type": "markdown",
   "metadata": {},
   "source": [
    "<p>Votre classe est prête !</p>\n",
    "<p>Creez maintenant votre objet à partir de cette classe et affichez dans la console le nom donné !</p>"
   ]
  },
  {
   "cell_type": "code",
   "execution_count": 46,
   "metadata": {
    "dotnet_interactive": {
     "language": "csharp"
    },
    "polyglot_notebook": {
     "kernelName": "csharp"
    },
    "vscode": {
     "languageId": "polyglot-notebook"
    }
   },
   "outputs": [
    {
     "name": "stdout",
     "output_type": "stream",
     "text": [
      "Le robot est à la position : 0, 0\r\n"
     ]
    }
   ],
   "source": [
    "Robot robot = new Robot(0, 0);\n",
    "\n",
    "Console.WriteLine(\"Le robot est à la position : \" + robot.positionX + \", \" + robot.positionY);"
   ]
  },
  {
   "cell_type": "markdown",
   "metadata": {},
   "source": [
    "<h5>Beau travail !</h5>\n",
    "<p>Il ne vous reste plus qu'à completer cette classe et ajouter des méthodes de déplacements en utilisant les coordonnées renseignées : positionX et Y. Par exemple Moove(int x, int y) ou encore MooveY(int y) etc...</p>\n",
    "<p>A vous de jouer !</p>"
   ]
  }
 ],
 "metadata": {
  "kernelspec": {
   "display_name": ".NET (C#)",
   "language": "C#",
   "name": ".net-csharp"
  },
  "language_info": {
   "name": "python"
  },
  "polyglot_notebook": {
   "kernelInfo": {
    "defaultKernelName": "csharp",
    "items": [
     {
      "aliases": [],
      "name": "csharp"
     }
    ]
   }
  }
 },
 "nbformat": 4,
 "nbformat_minor": 2
}
